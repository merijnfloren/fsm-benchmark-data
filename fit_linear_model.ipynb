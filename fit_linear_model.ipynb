{
 "cells": [
  {
   "cell_type": "code",
   "execution_count": 1,
   "metadata": {},
   "outputs": [],
   "source": [
    "import numpy as np\n",
    "import freq_statespace as fss\n",
    "\n",
    "import math\n",
    "\n",
    "import numpy as np\n",
    "import optimistix as optx\n",
    "import optax\n",
    "\n",
    "# Load data\n",
    "amplitude = 300  # [mV] either 100, 200, 300\n",
    "\n",
    "u_train, y_train = np.load(f\"data/u_{amplitude}mV_train.npy\"), np.load(f\"data/y_{amplitude}mV_train.npy\")\n",
    "\n",
    "N = u_train.shape[0]\n",
    "\n",
    "nu, ny = u_train.shape[1], y_train.shape[1]\n",
    "\n",
    "fs = 6400  # [Hz]\n",
    "f_max = 3000  # [Hz] \n",
    "f_idx = np.arange(1, math.ceil(f_max / (fs / N)))  # frequency lines of interest (excludes DC)\n",
    "\n",
    "data = fss.create_data_object(u_train, y_train, f_idx, fs)"
   ]
  },
  {
   "cell_type": "code",
   "execution_count": null,
   "metadata": {},
   "outputs": [
    {
     "name": "stdout",
     "output_type": "stream",
     "text": [
      "=============== Frequency-domain subspace identification ===============\n"
     ]
    }
   ],
   "source": [
    "# Fit Best Linear Approximation\n",
    "nx = 28\n",
    "q = nx + 1\n",
    "\n",
    "solver = optx.OptaxMinimiser(optax.adam(learning_rate=1e-4), rtol=1e-3, atol=1e-5)\n",
    "max_iter = 1000 if amplitude == 100 else 5000  # otherwise overfits too much to noise at poorest SNR\n",
    "\n",
    "bla = fss.lin.subspace_id(data, nx, q)\n",
    "bla = fss.lin.optimize(bla, data, solver=solver, max_iter=max_iter)"
   ]
  },
  {
   "cell_type": "code",
   "execution_count": 4,
   "metadata": {},
   "outputs": [
    {
     "name": "stdout",
     "output_type": "stream",
     "text": [
      "BLA test error at 100mV\n",
      "    Output 1: 26.42%\n",
      "    Output 2: 40.76%\n",
      "    Output 3: 30.97%\n",
      "\n",
      "BLA test error at 200mV\n",
      "    Output 1: 11.91%\n",
      "    Output 2: 17.56%\n",
      "    Output 3: 14.34%\n",
      "\n",
      "BLA test error at 300mV\n",
      "    Output 1: 4.44%\n",
      "    Output 2: 4.57%\n",
      "    Output 3: 4.58%\n",
      "\n"
     ]
    }
   ],
   "source": [
    "## Evaluate BLA on test data at all 3 amplitudes\n",
    "\n",
    "amplitudes = [100, 200, 300]\n",
    "for amp in amplitudes:\n",
    "    \n",
    "    u_test, y_test = np.load(f\"data/u_{amp}mV_test.npy\"), np.load(f\"data/y_{amp}mV_test.npy\")\n",
    "    \n",
    "    N, nu, R_test, P_test = u_test.shape\n",
    "    ny = y_test.shape[1]\n",
    "    \n",
    "    # Stack the periods in the first dimension (for compatibility with _simulate())\n",
    "    u_test_stacked = np.transpose(u_test, (0, 3, 1, 2)).reshape(N * P_test, nu, R_test, order=\"F\")\n",
    "    y_test_stacked = np.transpose(y_test, (0, 3, 1, 2)).reshape(N * P_test, ny, R_test, order=\"F\")\n",
    "    \n",
    "    # Normalise input \n",
    "    u_test_stacked = (u_test_stacked - data.norm.u_mean.reshape(1, -1, 1)) / data.norm.u_std.reshape(1, -1, 1)\n",
    "    \n",
    "    # Simulate\n",
    "    y_test_sim = bla._simulate(u_test_stacked, offset=1000)[0]\n",
    "    \n",
    "    # Denormalise output\n",
    "    y_test_sim = y_test_sim * data.norm.y_std.reshape(1, -1, 1) + data.norm.y_mean.reshape(1, -1, 1)\n",
    "    \n",
    "    # Compute NRMSE per output channel\n",
    "    error = y_test_stacked - y_test_sim\n",
    "    mse = np.mean(error**2, axis=(0, 2))\n",
    "    norm = np.mean(y_test_stacked**2, axis=(0, 2))\n",
    "    nrmse = 100 * np.sqrt(mse / norm) \n",
    "    \n",
    "    print(f\"BLA test error at {amp}mV\")\n",
    "    for i, val in enumerate(nrmse):\n",
    "        print(f\"    Output {i+1}: {val:.2f}%\")\n",
    "    print()\n"
   ]
  }
 ],
 "metadata": {
  "kernelspec": {
   "display_name": ".venv",
   "language": "python",
   "name": "python3"
  },
  "language_info": {
   "codemirror_mode": {
    "name": "ipython",
    "version": 3
   },
   "file_extension": ".py",
   "mimetype": "text/x-python",
   "name": "python",
   "nbconvert_exporter": "python",
   "pygments_lexer": "ipython3",
   "version": "3.10.12"
  }
 },
 "nbformat": 4,
 "nbformat_minor": 2
}
